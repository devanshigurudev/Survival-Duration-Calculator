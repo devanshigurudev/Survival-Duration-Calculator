{
  "nbformat": 4,
  "nbformat_minor": 0,
  "metadata": {
    "colab": {
      "provenance": []
    },
    "kernelspec": {
      "name": "python3",
      "display_name": "Python 3"
    },
    "language_info": {
      "name": "python"
    }
  },
  "cells": [
    {
      "cell_type": "markdown",
      "source": [
        "# **Survival Duration Calculator**"
      ],
      "metadata": {
        "id": "EbJ7gH6HITvd"
      }
    },
    {
      "cell_type": "code",
      "execution_count": 1,
      "metadata": {
        "colab": {
          "base_uri": "https://localhost:8080/"
        },
        "id": "8uiMG9L7IAea",
        "outputId": "af9a3796-6222-4179-99d3-8ddfd993e4ad"
      },
      "outputs": [
        {
          "output_type": "stream",
          "name": "stdout",
          "text": [
            "Enter the age of the person: 10\n",
            "Enter the desired time unit (months/weeks/days/hours/minutes/seconds): months\n",
            "The person lived for 121.67 months.\n"
          ]
        }
      ],
      "source": [
        "from datetime import datetime, timedelta\n",
        "\n",
        "def calculate_duration(age, time_unit):\n",
        "    birth_date = datetime.now() - timedelta(days=365 * age)\n",
        "    current_date = datetime.now()\n",
        "\n",
        "    duration = current_date - birth_date\n",
        "\n",
        "    if time_unit == 'months':\n",
        "        return duration.total_seconds() / (30 * 24 * 3600)\n",
        "    elif time_unit == 'weeks':\n",
        "        return duration.total_seconds() / (7 * 24 * 3600)\n",
        "    elif time_unit == 'days':\n",
        "        return duration.total_seconds() / (24 * 3600)\n",
        "    elif time_unit == 'hours':\n",
        "        return duration.total_seconds() / 3600\n",
        "    elif time_unit == 'minutes':\n",
        "        return duration.total_seconds() / 60\n",
        "    elif time_unit == 'seconds':\n",
        "        return duration.total_seconds()\n",
        "\n",
        "if __name__ == \"__main__\":\n",
        "    age = int(input(\"Enter the age of the person: \"))\n",
        "    unit = input(\"Enter the desired time unit (months/weeks/days/hours/minutes/seconds): \").lower()\n",
        "\n",
        "    if unit in ['months', 'weeks', 'days', 'hours', 'minutes', 'seconds']:\n",
        "        result = calculate_duration(age, unit)\n",
        "        print(f\"The person lived for {result:.2f} {unit}.\")\n",
        "    else:\n",
        "        print(\"Invalid time unit. Please choose a valid unit.\")\n"
      ]
    }
  ]
}